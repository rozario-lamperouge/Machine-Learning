{
  "nbformat": 4,
  "nbformat_minor": 0,
  "metadata": {
    "colab": {
      "name": "Handwritten Digits",
      "provenance": [],
      "authorship_tag": "ABX9TyOpGE0A0YJvukCkQfG3/Z7u",
      "include_colab_link": true
    },
    "kernelspec": {
      "name": "python3",
      "display_name": "Python 3"
    }
  },
  "cells": [
    {
      "cell_type": "markdown",
      "metadata": {
        "id": "view-in-github",
        "colab_type": "text"
      },
      "source": [
        "<a href=\"https://colab.research.google.com/github/rozario-lamperouge/Machine-Learning-Course/blob/master/Handwritten_Digits.ipynb\" target=\"_parent\"><img src=\"https://colab.research.google.com/assets/colab-badge.svg\" alt=\"Open In Colab\"/></a>"
      ]
    },
    {
      "cell_type": "markdown",
      "metadata": {
        "id": "oU77eHO4QF_l"
      },
      "source": [
        "# **Working with Images**"
      ]
    },
    {
      "cell_type": "code",
      "metadata": {
        "id": "5ybnISZySvaV"
      },
      "source": [
        "import matplotlib.pyplot as plt\n",
        "from sklearn.svm import SVC\n",
        "from sklearn import datasets\n",
        "from sklearn.metrics import classification_report"
      ],
      "execution_count": 63,
      "outputs": []
    },
    {
      "cell_type": "markdown",
      "metadata": {
        "id": "2y4g9TMPQMYw"
      },
      "source": [
        "## **Loading the dataset**"
      ]
    },
    {
      "cell_type": "code",
      "metadata": {
        "id": "PggY-asSEYtV"
      },
      "source": [
        "digits = datasets.load_digits()"
      ],
      "execution_count": null,
      "outputs": []
    },
    {
      "cell_type": "markdown",
      "metadata": {
        "id": "IEoeRbj-Qq0a"
      },
      "source": [
        "## **peeking at the data**"
      ]
    },
    {
      "cell_type": "code",
      "metadata": {
        "id": "3y1380GlQuY7"
      },
      "source": [
        "print(digits.images[70])"
      ],
      "execution_count": null,
      "outputs": []
    },
    {
      "cell_type": "code",
      "metadata": {
        "id": "eSCki_uHHPOS"
      },
      "source": [
        "plt.imshow(digits.images[0],cmap=plt.cm.gray_r)"
      ],
      "execution_count": null,
      "outputs": []
    },
    {
      "cell_type": "code",
      "metadata": {
        "id": "OD3R5hvDPa3H"
      },
      "source": [
        "print(digits.data.shape)\n",
        "print(digits.target.shape)\n",
        "print(digits.images.shape)"
      ],
      "execution_count": null,
      "outputs": []
    },
    {
      "cell_type": "markdown",
      "metadata": {
        "id": "Uj2KTW6rQ6U7"
      },
      "source": [
        "## **Loading the data**"
      ]
    },
    {
      "cell_type": "code",
      "metadata": {
        "id": "e4g_1GWuIBVj"
      },
      "source": [
        "X = digits.data\n",
        "Y = digits.target"
      ],
      "execution_count": 58,
      "outputs": []
    },
    {
      "cell_type": "code",
      "metadata": {
        "id": "O_Ooxm8lEFWj"
      },
      "source": [
        "from sklearn.model_selection import train_test_split\n",
        "X_train, X_test, Y_train, Y_test = train_test_split(X,Y,test_size=0.2,random_state=7)"
      ],
      "execution_count": 60,
      "outputs": []
    },
    {
      "cell_type": "markdown",
      "metadata": {
        "id": "Y_ftmBDHRB-D"
      },
      "source": [
        "## **Fitting it to the model**"
      ]
    },
    {
      "cell_type": "code",
      "metadata": {
        "id": "jm_Vz-9EJhBU"
      },
      "source": [
        "clf = SVC(gamma=0.001,C=100)\n",
        "clf.fit(X_train,Y_train)"
      ],
      "execution_count": null,
      "outputs": []
    },
    {
      "cell_type": "code",
      "metadata": {
        "id": "mWoLr12TMxUP"
      },
      "source": [
        "predict = clf.predict(X_test)\n",
        "print(classification_report(Y_test, predict))"
      ],
      "execution_count": null,
      "outputs": []
    },
    {
      "cell_type": "markdown",
      "metadata": {
        "id": "5DPfaS3PRG4j"
      },
      "source": [
        "## **Prediction**"
      ]
    },
    {
      "cell_type": "code",
      "metadata": {
        "id": "yOBDVArkNQG6"
      },
      "source": [
        "i = 10\n",
        "\n",
        "print(\"prediction =\",clf.predict(digits.data[[i]]))\n",
        "plt.imshow(digits.images[i],cmap=plt.cm.gray_r)"
      ],
      "execution_count": null,
      "outputs": []
    }
  ]
}