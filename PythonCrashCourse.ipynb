{
  "nbformat": 4,
  "nbformat_minor": 0,
  "metadata": {
    "colab": {
      "name": "PythonCrashCourse.ipynb",
      "provenance": [],
      "authorship_tag": "ABX9TyOQRkXF1LoGgUCzfPPJbjGY",
      "include_colab_link": true
    },
    "kernelspec": {
      "name": "python3",
      "display_name": "Python 3"
    }
  },
  "cells": [
    {
      "cell_type": "markdown",
      "metadata": {
        "id": "view-in-github",
        "colab_type": "text"
      },
      "source": [
        "<a href=\"https://colab.research.google.com/github/rozario-lamperouge/Machine-Learning-Course/blob/master/PythonCrashCourse.ipynb\" target=\"_parent\"><img src=\"https://colab.research.google.com/assets/colab-badge.svg\" alt=\"Open In Colab\"/></a>"
      ]
    },
    {
      "cell_type": "markdown",
      "metadata": {
        "id": "QYsNnYVczAXJ"
      },
      "source": [
        "# Hello World Program"
      ]
    },
    {
      "cell_type": "code",
      "metadata": {
        "id": "J2DC8EWmuUvd",
        "colab": {
          "base_uri": "https://localhost:8080/"
        },
        "outputId": "9fd306fb-4f35-46a9-a63e-7974bacc9d7b"
      },
      "source": [
        "print('Hello')"
      ],
      "execution_count": null,
      "outputs": [
        {
          "output_type": "stream",
          "text": [
            "Hello\n"
          ],
          "name": "stdout"
        }
      ]
    },
    {
      "cell_type": "markdown",
      "metadata": {
        "id": "4CV2D-n7zilv"
      },
      "source": [
        "# Variables"
      ]
    },
    {
      "cell_type": "code",
      "metadata": {
        "id": "NX6N9wUdzlRu",
        "colab": {
          "base_uri": "https://localhost:8080/"
        },
        "outputId": "be462837-e70c-433c-90b4-70cb248adf3e"
      },
      "source": [
        "pi = 3.14\n",
        "print(pi)"
      ],
      "execution_count": null,
      "outputs": [
        {
          "output_type": "stream",
          "text": [
            "3.14\n"
          ],
          "name": "stdout"
        }
      ]
    },
    {
      "cell_type": "markdown",
      "metadata": {
        "id": "-toLkJ0_0Ke4"
      },
      "source": [
        "##Datatypes"
      ]
    },
    {
      "cell_type": "code",
      "metadata": {
        "id": "0jeiLfjT0bLH"
      },
      "source": [
        "a = -124\n",
        "b = -12.4\n",
        "c = 'Richard123'\n",
        "d = True\n",
        "f = False"
      ],
      "execution_count": null,
      "outputs": []
    },
    {
      "cell_type": "code",
      "metadata": {
        "id": "fDjXGMDI05Tf",
        "colab": {
          "base_uri": "https://localhost:8080/"
        },
        "outputId": "2f74d0bd-2b30-4cdb-ac31-7638b23ef7d6"
      },
      "source": [
        "print(type(a))\n",
        "print(type(b))\n",
        "print(type(c))\n",
        "print(type(d))\n",
        "print(type(f))"
      ],
      "execution_count": null,
      "outputs": [
        {
          "output_type": "stream",
          "text": [
            "<class 'int'>\n",
            "<class 'float'>\n",
            "<class 'str'>\n",
            "<class 'bool'>\n",
            "<class 'bool'>\n"
          ],
          "name": "stdout"
        }
      ]
    },
    {
      "cell_type": "markdown",
      "metadata": {
        "id": "WhkL5DKG2KW_"
      },
      "source": [
        "# Operations"
      ]
    },
    {
      "cell_type": "code",
      "metadata": {
        "id": "2wJx9_xK2aWi"
      },
      "source": [
        "a = 10\n",
        "b = 20\n",
        "\n",
        "print(a+b)\n",
        "print(a-b)\n",
        "print(a/b)\n",
        "print(a*b)\n",
        "print(a%b)"
      ],
      "execution_count": null,
      "outputs": []
    },
    {
      "cell_type": "code",
      "metadata": {
        "id": "wDUjtfCw4Wso",
        "colab": {
          "base_uri": "https://localhost:8080/"
        },
        "outputId": "8de50eaf-850b-4bdb-94fa-f9327a6c825c"
      },
      "source": [
        "print(a > b)\n",
        "print(b > a)\n",
        "print(a == b)\n",
        "print(a >= b)\n",
        "print(a <= b)\n",
        "print(a != b)"
      ],
      "execution_count": null,
      "outputs": [
        {
          "output_type": "stream",
          "text": [
            "False\n",
            "True\n",
            "False\n",
            "False\n",
            "True\n",
            "True\n"
          ],
          "name": "stdout"
        }
      ]
    },
    {
      "cell_type": "code",
      "metadata": {
        "id": "b0EcZnjc5XdY",
        "colab": {
          "base_uri": "https://localhost:8080/"
        },
        "outputId": "a53be902-8332-48db-e006-71c255edc420"
      },
      "source": [
        "print((b > a) and (a != b))"
      ],
      "execution_count": null,
      "outputs": [
        {
          "output_type": "stream",
          "text": [
            "True\n"
          ],
          "name": "stdout"
        }
      ]
    },
    {
      "cell_type": "markdown",
      "metadata": {
        "id": "tff4Hr9XLl35"
      },
      "source": [
        "simple addition"
      ]
    },
    {
      "cell_type": "code",
      "metadata": {
        "id": "ekiWSM5SLoEy",
        "colab": {
          "base_uri": "https://localhost:8080/"
        },
        "outputId": "b7a5f92f-614f-4d68-8744-a6e76c2a1c84"
      },
      "source": [
        "#this is an addition program\n",
        "'''\n",
        "\n",
        "hnlk\n",
        "lknlk\n",
        "knpk\n",
        "'''\n",
        "a = int(input(\"Enter first num:\"))\n",
        "b = int(input(\"Enter second num:\"))\n",
        "total = a + b\n",
        "print(\"the total is\",total)"
      ],
      "execution_count": null,
      "outputs": [
        {
          "output_type": "stream",
          "text": [
            "Enter first num:50\n",
            "Enter second num:40\n",
            "the total is 90\n"
          ],
          "name": "stdout"
        }
      ]
    },
    {
      "cell_type": "markdown",
      "metadata": {
        "id": "mLCBFZAsOdQ2"
      },
      "source": [
        "# Conditional Statements"
      ]
    },
    {
      "cell_type": "code",
      "metadata": {
        "id": "XMav84ZKOg7u",
        "colab": {
          "base_uri": "https://localhost:8080/"
        },
        "outputId": "14f5e9e0-8d05-4cbc-ea77-d449a43b543b"
      },
      "source": [
        "name = input(\"Enter your name:\")\n",
        "\n",
        "if(name == \"Richard\"):\n",
        "  print(\"Hello Richard\")\n",
        "elif(name == \"Elon Musk\"):\n",
        "  print(\"Welcome Elon Musk\")\n",
        "else:\n",
        "  print(\"Invalid Name!!!\")"
      ],
      "execution_count": null,
      "outputs": [
        {
          "output_type": "stream",
          "text": [
            "Enter your name:jbjjn\n",
            "Invalid Name!!!\n"
          ],
          "name": "stdout"
        }
      ]
    },
    {
      "cell_type": "markdown",
      "metadata": {
        "id": "N0WWJo4BRKaS"
      },
      "source": [
        "# Looping Statements"
      ]
    },
    {
      "cell_type": "code",
      "metadata": {
        "id": "kKO3tTTIROuv"
      },
      "source": [
        "# for i in range(initialization, end, increment)\n",
        "\n",
        "for i in range(7):\n",
        "  print(\"Hiiii\")\n",
        "  print(i)"
      ],
      "execution_count": null,
      "outputs": []
    },
    {
      "cell_type": "code",
      "metadata": {
        "id": "uqvqj_98TIu3"
      },
      "source": [
        "i = 0\n",
        "while (i<6):\n",
        "  print(i)\n",
        "  print(\"Hello\")\n",
        "  i = i + 1"
      ],
      "execution_count": null,
      "outputs": []
    },
    {
      "cell_type": "markdown",
      "metadata": {
        "id": "YE0cRS06Yf-s"
      },
      "source": [
        "# Functions"
      ]
    },
    {
      "cell_type": "code",
      "metadata": {
        "id": "vpag94RyYik3",
        "colab": {
          "base_uri": "https://localhost:8080/"
        },
        "outputId": "e98fc39b-8143-43c5-fe03-dce97a297bc5"
      },
      "source": [
        "def sqr(x,y):\n",
        "  print(x*y)\n",
        "\n",
        "sqr(2,5)\n",
        "\n",
        "sqr(5,50)\n",
        "\n",
        "sqr(3,40)"
      ],
      "execution_count": null,
      "outputs": [
        {
          "output_type": "stream",
          "text": [
            "10\n",
            "250\n",
            "120\n"
          ],
          "name": "stdout"
        }
      ]
    },
    {
      "cell_type": "markdown",
      "metadata": {
        "id": "a795XX3Ydkhl"
      },
      "source": [
        "#String Operations"
      ]
    },
    {
      "cell_type": "code",
      "metadata": {
        "id": "fnWQjVF0doAv",
        "colab": {
          "base_uri": "https://localhost:8080/"
        },
        "outputId": "a222cabf-6e7d-465e-d6c9-9fe42d0790c2"
      },
      "source": [
        "a = \"Best Python is The Best programming language\"\n",
        "b = \"   python   \"\n",
        "print(a)\n",
        "print(b)"
      ],
      "execution_count": null,
      "outputs": [
        {
          "output_type": "stream",
          "text": [
            "Best Python is The Best programming language\n",
            "   python   \n"
          ],
          "name": "stdout"
        }
      ]
    },
    {
      "cell_type": "code",
      "metadata": {
        "id": "_3pvkrdneMcp",
        "colab": {
          "base_uri": "https://localhost:8080/"
        },
        "outputId": "05589f1e-3cfe-4ff0-f0c1-148ff8f317fc"
      },
      "source": [
        "print(len(a))\n",
        "print(len(b))"
      ],
      "execution_count": null,
      "outputs": [
        {
          "output_type": "stream",
          "text": [
            "44\n",
            "12\n"
          ],
          "name": "stdout"
        }
      ]
    },
    {
      "cell_type": "code",
      "metadata": {
        "id": "NXlw5PeOeWBK",
        "colab": {
          "base_uri": "https://localhost:8080/"
        },
        "outputId": "a2f4dfa2-7103-4de9-f31c-f66628530391"
      },
      "source": [
        "print(a.upper())\n",
        "print(a.lower())"
      ],
      "execution_count": null,
      "outputs": [
        {
          "output_type": "stream",
          "text": [
            "BEST PYTHON IS THE BEST PROGRAMMING LANGUAGE\n",
            "best python is the best programming language\n"
          ],
          "name": "stdout"
        }
      ]
    },
    {
      "cell_type": "code",
      "metadata": {
        "id": "hZ3m6h8gevjA",
        "colab": {
          "base_uri": "https://localhost:8080/"
        },
        "outputId": "8cbb2c77-e244-448f-8ff3-b705b3a8a598"
      },
      "source": [
        "print(b)\n",
        "print(b.strip())"
      ],
      "execution_count": null,
      "outputs": [
        {
          "output_type": "stream",
          "text": [
            "   python   \n",
            "python\n"
          ],
          "name": "stdout"
        }
      ]
    },
    {
      "cell_type": "code",
      "metadata": {
        "id": "JypO6CGffM4Q",
        "colab": {
          "base_uri": "https://localhost:8080/"
        },
        "outputId": "082b7ddd-14cd-4379-984d-d225fd038de2"
      },
      "source": [
        "a = a.replace(\"Best\",\"Great\")\n",
        "print(a)"
      ],
      "execution_count": null,
      "outputs": [
        {
          "output_type": "stream",
          "text": [
            "Great Python is The Great programming language\n"
          ],
          "name": "stdout"
        }
      ]
    },
    {
      "cell_type": "code",
      "metadata": {
        "id": "lZ2KvqBGgEMr",
        "colab": {
          "base_uri": "https://localhost:8080/"
        },
        "outputId": "55a5daa5-2475-43d0-a8c0-0022046df156"
      },
      "source": [
        "if \"richard\" in a:\n",
        "  print(\"True\")\n",
        "else:\n",
        "  print(\"False\")"
      ],
      "execution_count": null,
      "outputs": [
        {
          "output_type": "stream",
          "text": [
            "False\n"
          ],
          "name": "stdout"
        }
      ]
    },
    {
      "cell_type": "markdown",
      "metadata": {
        "id": "YdjbEqnFo-7n"
      },
      "source": [
        "#List"
      ]
    },
    {
      "cell_type": "code",
      "metadata": {
        "id": "byTaNMjxpD5k"
      },
      "source": [
        "l = [10, 20, 40, 60, \"Richard\", 4.5]"
      ],
      "execution_count": null,
      "outputs": []
    },
    {
      "cell_type": "code",
      "metadata": {
        "id": "M50tiT4ZsPpH",
        "colab": {
          "base_uri": "https://localhost:8080/"
        },
        "outputId": "a5605348-0bf1-44ce-cd9d-ccb2ab827cee"
      },
      "source": [
        "print(l[1:4])\n",
        "print(l[3:])\n",
        "\n",
        "print(l[-4:4])\n",
        "print(l[-5:-1])"
      ],
      "execution_count": null,
      "outputs": [
        {
          "output_type": "stream",
          "text": [
            "[20, 40, 60]\n",
            "[60, 'Richard', 4.5]\n",
            "[40, 60]\n",
            "[20, 40, 60, 'Richard']\n"
          ],
          "name": "stdout"
        }
      ]
    },
    {
      "cell_type": "code",
      "metadata": {
        "id": "cH6QyTftqdy5",
        "colab": {
          "base_uri": "https://localhost:8080/"
        },
        "outputId": "73cc4cab-9cf5-45f4-cc0d-a747dbec9ec2"
      },
      "source": [
        "print(l[4])"
      ],
      "execution_count": null,
      "outputs": [
        {
          "output_type": "stream",
          "text": [
            "Richard\n"
          ],
          "name": "stdout"
        }
      ]
    },
    {
      "cell_type": "code",
      "metadata": {
        "id": "SJsTpyBorVwd",
        "colab": {
          "base_uri": "https://localhost:8080/"
        },
        "outputId": "4b07c3cb-4fd1-4fae-8d4d-ee890c61bf73"
      },
      "source": [
        "l.append(50)\n",
        "print(l)"
      ],
      "execution_count": null,
      "outputs": [
        {
          "output_type": "stream",
          "text": [
            "[10, 20, 40, 60, 'Richard', 4.5, 50]\n"
          ],
          "name": "stdout"
        }
      ]
    },
    {
      "cell_type": "code",
      "metadata": {
        "id": "DYAm8nB8rfET",
        "colab": {
          "base_uri": "https://localhost:8080/"
        },
        "outputId": "f11d4523-e892-44a4-c8d7-5400b6587614"
      },
      "source": [
        "l.pop(4)\n",
        "print(l)"
      ],
      "execution_count": null,
      "outputs": [
        {
          "output_type": "stream",
          "text": [
            "[10, 20, 40, 60, 50]\n"
          ],
          "name": "stdout"
        }
      ]
    },
    {
      "cell_type": "code",
      "metadata": {
        "id": "u8aziOiWrzs0",
        "colab": {
          "base_uri": "https://localhost:8080/"
        },
        "outputId": "49ba8a80-cdf6-4ace-f21d-2810d063b19f"
      },
      "source": [
        "l.sort()\n",
        "print(l)\n",
        "\n",
        "l.sort(reverse=True)\n",
        "print(l)\n",
        "\n",
        "l.reverse()\n",
        "print(l)"
      ],
      "execution_count": null,
      "outputs": [
        {
          "output_type": "stream",
          "text": [
            "[10, 20, 40, 50, 60]\n",
            "[60, 50, 40, 20, 10]\n",
            "[10, 20, 40, 50, 60]\n"
          ],
          "name": "stdout"
        }
      ]
    },
    {
      "cell_type": "markdown",
      "metadata": {
        "id": "P_p3rNR6tj9t"
      },
      "source": [
        "#tuple"
      ]
    },
    {
      "cell_type": "code",
      "metadata": {
        "id": "7WodGkaktmNn",
        "colab": {
          "base_uri": "https://localhost:8080/"
        },
        "outputId": "596fa730-d67a-4704-be93-76b15bd38be8"
      },
      "source": [
        "t = (1,2,3,5)\n",
        "print(type(t))"
      ],
      "execution_count": null,
      "outputs": [
        {
          "output_type": "stream",
          "text": [
            "<class 'tuple'>\n"
          ],
          "name": "stdout"
        }
      ]
    },
    {
      "cell_type": "code",
      "metadata": {
        "id": "SUM-VUBDt0qG"
      },
      "source": [
        "print(len(t))\n",
        "print(max(t))\n",
        "print(min(t))"
      ],
      "execution_count": null,
      "outputs": []
    },
    {
      "cell_type": "code",
      "metadata": {
        "id": "cg5YtC47uH5Z"
      },
      "source": [
        "print(t[0:3])"
      ],
      "execution_count": null,
      "outputs": []
    },
    {
      "cell_type": "markdown",
      "metadata": {
        "id": "1O-EPkuHuiMF"
      },
      "source": [
        "#Dictionary"
      ]
    },
    {
      "cell_type": "code",
      "metadata": {
        "id": "mcJo54a-ukEF",
        "colab": {
          "base_uri": "https://localhost:8080/"
        },
        "outputId": "75a9e90d-8bc0-4356-fcb2-3c2edf0724ac"
      },
      "source": [
        "d = {\"one\":\"Earth\",\n",
        "     \"two\":\"Mars\",\n",
        "     \"three\":\"Venus\"}\n",
        "\n",
        "print(type(d))"
      ],
      "execution_count": null,
      "outputs": [
        {
          "output_type": "stream",
          "text": [
            "<class 'dict'>\n"
          ],
          "name": "stdout"
        }
      ]
    },
    {
      "cell_type": "code",
      "metadata": {
        "id": "-Bf2ja9uvkDP",
        "colab": {
          "base_uri": "https://localhost:8080/"
        },
        "outputId": "e6fcc7cd-4b83-4a52-dc2d-83f125371e58"
      },
      "source": [
        "print(d[\"two\"])"
      ],
      "execution_count": null,
      "outputs": [
        {
          "output_type": "stream",
          "text": [
            "Mars\n"
          ],
          "name": "stdout"
        }
      ]
    },
    {
      "cell_type": "code",
      "metadata": {
        "id": "NIBa-G5CvGEU"
      },
      "source": [
        "for k in d:\n",
        "  print(k)\n",
        "  print(d[k])"
      ],
      "execution_count": null,
      "outputs": []
    },
    {
      "cell_type": "code",
      "metadata": {
        "id": "aJQ3OaVXv702",
        "colab": {
          "base_uri": "https://localhost:8080/"
        },
        "outputId": "8366cd44-191c-416c-a520-dafaeba08521"
      },
      "source": [
        "d[\"to\"] = \"Jupyter\"\n",
        "print(d)"
      ],
      "execution_count": null,
      "outputs": [
        {
          "output_type": "stream",
          "text": [
            "{'one': 'Earth', 'two': 'Jupyter', 'three': 'Venus', 'four': 'Jupyter', 'to': 'Jupyter'}\n"
          ],
          "name": "stdout"
        }
      ]
    },
    {
      "cell_type": "code",
      "metadata": {
        "id": "E6A1cO2kwZDL",
        "colab": {
          "base_uri": "https://localhost:8080/"
        },
        "outputId": "dc977aab-f0b9-4ebd-ed02-9f74cabb0e5b"
      },
      "source": [
        "d.pop('two')\n",
        "print(d)"
      ],
      "execution_count": null,
      "outputs": [
        {
          "output_type": "stream",
          "text": [
            "{'one': 'Earth', 'three': 'Venus', 'four': 'Jupyter'}\n"
          ],
          "name": "stdout"
        }
      ]
    },
    {
      "cell_type": "markdown",
      "metadata": {
        "id": "oalKmOPNxAkY"
      },
      "source": [
        "# Exception Handling"
      ]
    },
    {
      "cell_type": "code",
      "metadata": {
        "id": "mhQg0DW_xE37",
        "colab": {
          "base_uri": "https://localhost:8080/"
        },
        "outputId": "b2315c14-5e54-407c-9b54-92f597256d96"
      },
      "source": [
        "try:\n",
        "  print(z)\n",
        "except:\n",
        "  print(\"the error has been scilenced\")"
      ],
      "execution_count": null,
      "outputs": [
        {
          "output_type": "stream",
          "text": [
            "the error has been scilenced\n"
          ],
          "name": "stdout"
        }
      ]
    },
    {
      "cell_type": "code",
      "metadata": {
        "id": "MaytMlq6x3xF",
        "colab": {
          "base_uri": "https://localhost:8080/"
        },
        "outputId": "a91206d9-517d-4445-828d-1d639f2e49cd"
      },
      "source": [
        "z = 10\n",
        "try:\n",
        "  print(z)\n",
        "except:\n",
        "  print(\"the error has been scilenced\")\n",
        "finally:\n",
        "  print(\"done checking for errors\")"
      ],
      "execution_count": null,
      "outputs": [
        {
          "output_type": "stream",
          "text": [
            "10\n",
            "done checking for errors\n"
          ],
          "name": "stdout"
        }
      ]
    }
  ]
}