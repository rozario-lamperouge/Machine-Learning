{
  "nbformat": 4,
  "nbformat_minor": 0,
  "metadata": {
    "colab": {
      "name": "Decision Trees.ipynb",
      "provenance": [],
      "collapsed_sections": [],
      "authorship_tag": "ABX9TyNO8vlx3fnwFMZ5MdL2fVpu",
      "include_colab_link": true
    },
    "kernelspec": {
      "name": "python3",
      "display_name": "Python 3"
    }
  },
  "cells": [
    {
      "cell_type": "markdown",
      "metadata": {
        "id": "view-in-github",
        "colab_type": "text"
      },
      "source": [
        "<a href=\"https://colab.research.google.com/github/rozario-lamperouge/Machine-Learning-Course/blob/master/Decision_Trees.ipynb\" target=\"_parent\"><img src=\"https://colab.research.google.com/assets/colab-badge.svg\" alt=\"Open In Colab\"/></a>"
      ]
    },
    {
      "cell_type": "markdown",
      "metadata": {
        "id": "AdOGNYTbfmuV"
      },
      "source": [
        "# **Decision Trees**\n",
        "\n",
        "![image.png](data:image/png;base64,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)"
      ]
    },
    {
      "cell_type": "markdown",
      "metadata": {
        "id": "MI8mOyHIf7_p"
      },
      "source": [
        "## **Import Libraries**"
      ]
    },
    {
      "cell_type": "code",
      "metadata": {
        "id": "A3O9LOLxS-Vq"
      },
      "source": [
        "from sklearn.tree import DecisionTreeClassifier\n",
        "from sklearn.model_selection import train_test_split"
      ],
      "execution_count": 5,
      "outputs": []
    },
    {
      "cell_type": "markdown",
      "metadata": {
        "id": "7TXMM7MrgHM_"
      },
      "source": [
        "## **Allocating The Data**"
      ]
    },
    {
      "cell_type": "code",
      "metadata": {
        "id": "rVOyYkYugL9K"
      },
      "source": [
        "X = [[180,9],[154,6],[155,7],[178,10],[186,10],[168,8],[178,9],[170,9],[172,8],[173,9],[174,9],[188,13]]\n",
        "Y = ['m','f','f','m','m','m','m','f','m','m','m','m']"
      ],
      "execution_count": 6,
      "outputs": []
    },
    {
      "cell_type": "markdown",
      "metadata": {
        "id": "oXOgWnXPgRDA"
      },
      "source": [
        "## **Fitting the data to the model**\n"
      ]
    },
    {
      "cell_type": "code",
      "metadata": {
        "id": "DVfuoaWNgU8i",
        "outputId": "c5245419-3c77-4086-edd7-6b59ed9e06a1",
        "colab": {
          "base_uri": "https://localhost:8080/"
        }
      },
      "source": [
        "clf = DecisionTreeClassifier()\n",
        "clf.fit(X,Y)\n",
        "print(clf.score(X,Y))"
      ],
      "execution_count": 19,
      "outputs": [
        {
          "output_type": "stream",
          "text": [
            "1.0\n"
          ],
          "name": "stdout"
        }
      ]
    },
    {
      "cell_type": "markdown",
      "metadata": {
        "id": "GwTnlTP8i54R"
      },
      "source": [
        "## **Predicting**"
      ]
    },
    {
      "cell_type": "code",
      "metadata": {
        "id": "RR3UN04mi9y9",
        "outputId": "cac69399-c0b6-4e16-fd32-72b72a7cea0f",
        "colab": {
          "base_uri": "https://localhost:8080/"
        }
      },
      "source": [
        "print(clf.predict([[171,70]]))"
      ],
      "execution_count": 20,
      "outputs": [
        {
          "output_type": "stream",
          "text": [
            "['f']\n"
          ],
          "name": "stdout"
        }
      ]
    },
    {
      "cell_type": "markdown",
      "metadata": {
        "id": "KJw3X-uBjbXX"
      },
      "source": [
        "# **Train Test Split**"
      ]
    },
    {
      "cell_type": "code",
      "metadata": {
        "id": "8SAg8Jy3je3Y"
      },
      "source": [
        "X_train, X_test, y_train, y_test = train_test_split(np.array(X),\n",
        "\tnp.array(Y), test_size=0.25, random_state=7)"
      ],
      "execution_count": 32,
      "outputs": []
    },
    {
      "cell_type": "code",
      "metadata": {
        "id": "P8qbpvg4jrV_"
      },
      "source": [
        "clf = DecisionTreeClassifier()\n",
        "clf.fit(X_train,y_train)"
      ],
      "execution_count": null,
      "outputs": []
    },
    {
      "cell_type": "code",
      "metadata": {
        "id": "fpOtELIGkBB3",
        "outputId": "b68045a2-69da-435b-b158-6d1816bac954",
        "colab": {
          "base_uri": "https://localhost:8080/"
        }
      },
      "source": [
        "from sklearn.metrics import classification_report\n",
        "predictions = clf.predict(X_test)\n",
        "print(classification_report(y_test, predictions))"
      ],
      "execution_count": 34,
      "outputs": [
        {
          "output_type": "stream",
          "text": [
            "              precision    recall  f1-score   support\n",
            "\n",
            "           f       1.00      0.50      0.67         2\n",
            "           m       0.50      1.00      0.67         1\n",
            "\n",
            "    accuracy                           0.67         3\n",
            "   macro avg       0.75      0.75      0.67         3\n",
            "weighted avg       0.83      0.67      0.67         3\n",
            "\n"
          ],
          "name": "stdout"
        }
      ]
    }
  ]
}