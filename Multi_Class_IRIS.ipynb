{
  "nbformat": 4,
  "nbformat_minor": 0,
  "metadata": {
    "colab": {
      "name": "Multi Class - IRIS.ipynb",
      "provenance": [],
      "authorship_tag": "ABX9TyOh4pN7183dyJ3OUtyRRCJt",
      "include_colab_link": true
    },
    "kernelspec": {
      "name": "python3",
      "display_name": "Python 3"
    }
  },
  "cells": [
    {
      "cell_type": "markdown",
      "metadata": {
        "id": "view-in-github",
        "colab_type": "text"
      },
      "source": [
        "<a href=\"https://colab.research.google.com/github/rozario-lamperouge/Machine-Learning-Course/blob/master/Multi_Class_IRIS.ipynb\" target=\"_parent\"><img src=\"https://colab.research.google.com/assets/colab-badge.svg\" alt=\"Open In Colab\"/></a>"
      ]
    },
    {
      "cell_type": "code",
      "metadata": {
        "id": "uuZaTGmmlNYt"
      },
      "source": [
        "!git clone https://github.com/rozario-lamperouge/Machine-Learning-Course.git"
      ],
      "execution_count": null,
      "outputs": []
    },
    {
      "cell_type": "code",
      "metadata": {
        "id": "x7wER85kkHmF"
      },
      "source": [
        "import matplotlib.pyplot as plt\n",
        "import pandas as pd\n",
        "import numpy as np\n",
        "from sklearn.model_selection import train_test_split\n",
        "from sklearn.ensemble import RandomForestClassifier\n",
        "from sklearn.metrics import classification_report"
      ],
      "execution_count": 2,
      "outputs": []
    },
    {
      "cell_type": "code",
      "metadata": {
        "id": "Dm5YROYdlYl4"
      },
      "source": [
        "df = pd.read_csv(\"Machine-Learning-Course/iris.csv\")\n",
        "df = np.array(df)\n",
        "\n",
        "X = df[:,0:4]\n",
        "Y = df[:,4]"
      ],
      "execution_count": 10,
      "outputs": []
    },
    {
      "cell_type": "code",
      "metadata": {
        "id": "fkHJGJVjmG1I"
      },
      "source": [
        "X_train, X_test, Y_train, Y_test = train_test_split(X, Y, test_size=0.25, random_state=7)"
      ],
      "execution_count": 11,
      "outputs": []
    },
    {
      "cell_type": "markdown",
      "metadata": {
        "id": "c0th90goneVT"
      },
      "source": [
        "## **Random Forest**"
      ]
    },
    {
      "cell_type": "code",
      "metadata": {
        "id": "EsJzuicMmien"
      },
      "source": [
        "clf = RandomForestClassifier(max_features=\"auto\")\n",
        "clf.fit(X_train,Y_train)"
      ],
      "execution_count": null,
      "outputs": []
    },
    {
      "cell_type": "code",
      "metadata": {
        "id": "2apJd5ejmweR"
      },
      "source": [
        "predict = clf.predict(X_test)\n",
        "print(classification_report(Y_test,predict))"
      ],
      "execution_count": null,
      "outputs": []
    },
    {
      "cell_type": "code",
      "metadata": {
        "id": "4CD0Lwn6mx-S"
      },
      "source": [
        "i = 30\n",
        "\n",
        "print(\"Original value =\",Y_test[i])\n",
        "print(\"Prediction =\",clf.predict(X_test[[i]]))"
      ],
      "execution_count": null,
      "outputs": []
    }
  ]
}